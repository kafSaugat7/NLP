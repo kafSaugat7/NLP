{
  "nbformat": 4,
  "nbformat_minor": 0,
  "metadata": {
    "colab": {
      "provenance": [],
      "authorship_tag": "ABX9TyNtRJ2p73mBrrcFo3sKPVSw",
      "include_colab_link": true
    },
    "kernelspec": {
      "name": "python3",
      "display_name": "Python 3"
    },
    "language_info": {
      "name": "python"
    }
  },
  "cells": [
    {
      "cell_type": "markdown",
      "metadata": {
        "id": "view-in-github",
        "colab_type": "text"
      },
      "source": [
        "<a href=\"https://colab.research.google.com/github/kafSaugat7/NLP/blob/main/NLP.ipynb\" target=\"_parent\"><img src=\"https://colab.research.google.com/assets/colab-badge.svg\" alt=\"Open In Colab\"/></a>"
      ]
    },
    {
      "cell_type": "code",
      "execution_count": 1,
      "metadata": {
        "colab": {
          "base_uri": "https://localhost:8080/"
        },
        "id": "PZjC23x4iSTc",
        "outputId": "7b22df38-88e2-44e6-c6fe-3e3e44f146b4"
      },
      "outputs": [
        {
          "output_type": "stream",
          "name": "stderr",
          "text": [
            "[nltk_data] Downloading package punkt to /root/nltk_data...\n",
            "[nltk_data]   Unzipping tokenizers/punkt.zip.\n",
            "[nltk_data] Downloading package vader_lexicon to /root/nltk_data...\n",
            "[nltk_data] Downloading package maxent_ne_chunker to\n",
            "[nltk_data]     /root/nltk_data...\n",
            "[nltk_data]   Unzipping chunkers/maxent_ne_chunker.zip.\n",
            "[nltk_data] Downloading package words to /root/nltk_data...\n",
            "[nltk_data]   Unzipping corpora/words.zip.\n",
            "[nltk_data] Downloading package movie_reviews to /root/nltk_data...\n",
            "[nltk_data]   Unzipping corpora/movie_reviews.zip.\n",
            "[nltk_data] Downloading package stopwords to /root/nltk_data...\n",
            "[nltk_data]   Unzipping corpora/stopwords.zip.\n",
            "[nltk_data] Downloading package averaged_perceptron_tagger to\n",
            "[nltk_data]     /root/nltk_data...\n",
            "[nltk_data]   Unzipping taggers/averaged_perceptron_tagger.zip.\n"
          ]
        },
        {
          "output_type": "stream",
          "name": "stdout",
          "text": [
            "Sentence Tokenization:\n",
            "['CSIT is a popular undergraduate program in Nepal that equips students with the skills to excel in the field of computer science and information technology.']\n",
            "Word Tokenization:\n",
            "['CSIT', 'is', 'a', 'popular', 'undergraduate', 'program', 'in', 'Nepal', 'that', 'equips', 'students', 'with', 'the', 'skills', 'to', 'excel', 'in', 'the', 'field', 'of', 'computer', 'science', 'and', 'information', 'technology', '.']\n",
            "Filtered List (without stopwords):\n",
            "['CSIT', 'popular', 'undergraduate', 'program', 'Nepal', 'equips', 'students', 'skills', 'excel', 'field', 'computer', 'science', 'information', 'technology', '.']\n",
            "Sentiment Analysis Scores:\n",
            "{'neg': 0.0, 'neu': 0.549, 'pos': 0.451, 'compound': 0.6249}\n",
            "Named Entities:\n",
            "(S\n",
            "  It/PRP\n",
            "  's/VBZ\n",
            "  a/DT\n",
            "  dangerous/JJ\n",
            "  business/NN\n",
            "  ,/,\n",
            "  (PERSON Frodo/NNP)\n",
            "  ,/,\n",
            "  going/VBG\n",
            "  out/RP\n",
            "  your/PRP$\n",
            "  door/NN\n",
            "  ./.)\n",
            "Frequency Distribution Most Common Words:\n",
            "[(',', 3), ('are', 2), ('the', 2), ('world', 2), ('is', 2), ('.', 2), ('Untrained', 1), ('neural', 1), ('network', 1), ('models', 1), ('much', 1), ('like', 1), ('new-born', 1), ('babies', 1), (':', 1), ('They', 1), ('created', 1), ('ignorant', 1), ('of', 1), ('(', 1)]\n",
            "Accuracy of Classifier: 0.734\n",
            "Classification of New Review: pos\n"
          ]
        }
      ],
      "source": [
        "import nltk\n",
        "from nltk.tokenize import sent_tokenize, word_tokenize\n",
        "from nltk.sentiment import SentimentIntensityAnalyzer\n",
        "from nltk.corpus import stopwords, movie_reviews\n",
        "from nltk import pos_tag, ne_chunk\n",
        "from nltk import FreqDist\n",
        "import random\n",
        "\n",
        "# Download necessary resources\n",
        "nltk.download('punkt')\n",
        "nltk.download('vader_lexicon')\n",
        "nltk.download('maxent_ne_chunker')\n",
        "nltk.download('words')\n",
        "nltk.download('movie_reviews')\n",
        "nltk.download('stopwords')\n",
        "nltk.download('averaged_perceptron_tagger')\n",
        "\n",
        "# Example string\n",
        "example_string = \"CSIT is a popular undergraduate program in Nepal that equips students with the skills to excel in the field of computer science and information technology.\"\n",
        "\n",
        "\n",
        "# Tokenization\n",
        "print(\"Sentence Tokenization:\")\n",
        "print(sent_tokenize(example_string))\n",
        "print(\"Word Tokenization:\")\n",
        "words_in_example = word_tokenize(example_string)\n",
        "print(words_in_example)\n",
        "\n",
        "\n",
        "# Stopword removal\n",
        "stop_words = set(stopwords.words(\"english\"))\n",
        "filtered_list = [word for word in words_in_example if word.casefold() not in stop_words]\n",
        "print(\"Filtered List (without stopwords):\")\n",
        "print(filtered_list)\n",
        "\n",
        "\n",
        "# Sentiment Analysis\n",
        "sia = SentimentIntensityAnalyzer()\n",
        "sentiment_text = \"Python is an awesome programming language.\"\n",
        "print(\"Sentiment Analysis Scores:\")\n",
        "print(sia.polarity_scores(sentiment_text))\n",
        "\n",
        "\n",
        "# Named Entity Recognition (NER)\n",
        "ner_text = \"It's a dangerous business, Frodo, going out your door.\"\n",
        "words_ner = word_tokenize(ner_text)\n",
        "tagged_words = pos_tag(words_ner)\n",
        "named_entities = ne_chunk(tagged_words)\n",
        "print(\"Named Entities:\")\n",
        "print(named_entities)\n",
        "\n",
        "\n",
        "# Frequency Distribution\n",
        "frq_sen = \"\"\"Untrained neural network models are much like new-born babies:\n",
        "They are created ignorant of the world (if considering tabula rasa epistemological theory),\n",
        "and it is only through exposure to the world, i.e. a posteriori knowledge, that their ignorance is slowly revised.\"\"\"\n",
        "words_freq = word_tokenize(frq_sen)\n",
        "frequency_distribution = FreqDist(words_freq)\n",
        "\n",
        "print(\"Frequency Distribution Most Common Words:\")\n",
        "print(frequency_distribution.most_common(20))\n",
        "\n",
        "\n",
        "# Text Classification\n",
        "# Load movie reviews\n",
        "documents = [(list(movie_reviews.words(fileid)), category)\n",
        "             for category in movie_reviews.categories()\n",
        "             for fileid in movie_reviews.fileids(category)]\n",
        "random.shuffle(documents)\n",
        "\n",
        "# Create a feature extractor\n",
        "def extract_features(words):\n",
        "    return {word: True for word in words}\n",
        "\n",
        "# Prepare training data\n",
        "featuresets = [(extract_features(words), category) for (words, category) in documents]\n",
        "train_set, test_set = featuresets[:1500], featuresets[1500:]\n",
        "\n",
        "# Train Naive Bayes classifier\n",
        "classifier = nltk.NaiveBayesClassifier.train(train_set)\n",
        "\n",
        "# Evaluate the classifier\n",
        "accuracy = nltk.classify.accuracy(classifier, test_set)\n",
        "print(\"Accuracy of Classifier:\", accuracy)\n",
        "\n",
        "\n",
        "# Classify a new review\n",
        "new_review = \"The movie was fantastic and I loved the characters.\"\n",
        "new_features = extract_features(word_tokenize(new_review))\n",
        "print(\"Classification of New Review:\", classifier.classify(new_features))"
      ]
    },
    {
      "cell_type": "code",
      "source": [],
      "metadata": {
        "id": "C4a6JV_wd8md"
      },
      "execution_count": null,
      "outputs": []
    },
    {
      "cell_type": "code",
      "source": [],
      "metadata": {
        "id": "MUDPhOXxfXj2"
      },
      "execution_count": null,
      "outputs": []
    },
    {
      "cell_type": "code",
      "source": [],
      "metadata": {
        "id": "nI5EkUVpeQdI"
      },
      "execution_count": null,
      "outputs": []
    },
    {
      "cell_type": "code",
      "source": [],
      "metadata": {
        "id": "NnVdbDXxdfm1"
      },
      "execution_count": null,
      "outputs": []
    }
  ]
}